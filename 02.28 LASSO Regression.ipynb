{
 "cells": [
  {
   "cell_type": "code",
   "execution_count": 32,
   "metadata": {},
   "outputs": [],
   "source": [
    "import pandas as pd \n",
    "from sklearn.model_selection import train_test_split\n",
    "from sklearn.linear_model import LassoLarsCV\n",
    "import matplotlib.pyplot as pyplot \n",
    "import warnings \n",
    "from sklearn.metrics import mean_squared_error\n",
    "warnings.filterwarnings('ignore')"
   ]
  },
  {
   "cell_type": "code",
   "execution_count": 36,
   "metadata": {},
   "outputs": [],
   "source": [
    "alldata = pd.read_csv('google_adspend_differenced_lagged_fordatarobot.csv')"
   ]
  },
  {
   "cell_type": "code",
   "execution_count": 37,
   "metadata": {},
   "outputs": [],
   "source": [
    "alldata.set_index(alldata['FIXED TIME'], inplace=True)"
   ]
  },
  {
   "cell_type": "code",
   "execution_count": 38,
   "metadata": {},
   "outputs": [
    {
     "data": {
      "text/plain": [
       "['FIXED TIME',\n",
       " 'CABLE TV_diff',\n",
       " 'CABLE TV_diff_lags1',\n",
       " 'CABLE TV_diff_lags2',\n",
       " 'MAGAZINES_diff',\n",
       " 'MAGAZINES_diff_lags1',\n",
       " 'MAGAZINES_diff_lags2',\n",
       " 'NAT SPOT RADIO_diff',\n",
       " 'NAT SPOT RADIO_diff_lags1',\n",
       " 'NAT SPOT RADIO_diff_lags2',\n",
       " 'NATL NEWSP_diff',\n",
       " 'NATL NEWSP_diff_lags1',\n",
       " 'NATL NEWSP_diff_lags2',\n",
       " 'NETWORK RADIO_diff',\n",
       " 'NETWORK RADIO_diff_lags1',\n",
       " 'NETWORK RADIO_diff_lags2',\n",
       " 'NETWORK TV_diff',\n",
       " 'NETWORK TV_diff_lags1',\n",
       " 'NETWORK TV_diff_lags2',\n",
       " 'NEWSPAPER_diff',\n",
       " 'NEWSPAPER_diff_lags1',\n",
       " 'NEWSPAPER_diff_lags2',\n",
       " 'OUTDOOR_diff',\n",
       " 'OUTDOOR_diff_lags1',\n",
       " 'OUTDOOR_diff_lags2',\n",
       " 'SPOT TV_diff',\n",
       " 'SPOT TV_diff_lags1',\n",
       " 'SPOT TV_diff_lags2',\n",
       " 'SUNDAY MAGS_diff',\n",
       " 'SUNDAY MAGS_diff_lags1',\n",
       " 'SUNDAY MAGS_diff_lags2',\n",
       " 'SYNDICATION_diff',\n",
       " 'SYNDICATION_diff_lags1',\n",
       " 'SYNDICATION_diff_lags2',\n",
       " 'TOTAL_diff',\n",
       " 'TOTAL_diff_lags1',\n",
       " 'TOTAL_diff_lags2',\n",
       " 'value_diff']"
      ]
     },
     "execution_count": 38,
     "metadata": {},
     "output_type": "execute_result"
    }
   ],
   "source": [
    "list(alldata)"
   ]
  },
  {
   "cell_type": "code",
   "execution_count": 39,
   "metadata": {},
   "outputs": [],
   "source": [
    "alldata = alldata.drop(columns= ['FIXED TIME'])"
   ]
  },
  {
   "cell_type": "code",
   "execution_count": 40,
   "metadata": {},
   "outputs": [],
   "source": [
    "alldata = alldata.iloc[3:] #drop first three rows"
   ]
  },
  {
   "cell_type": "code",
   "execution_count": 41,
   "metadata": {},
   "outputs": [],
   "source": [
    "alldata = alldata.iloc[:-6] #drop last six rows "
   ]
  },
  {
   "cell_type": "code",
   "execution_count": 42,
   "metadata": {},
   "outputs": [
    {
     "data": {
      "text/html": [
       "<div>\n",
       "<style scoped>\n",
       "    .dataframe tbody tr th:only-of-type {\n",
       "        vertical-align: middle;\n",
       "    }\n",
       "\n",
       "    .dataframe tbody tr th {\n",
       "        vertical-align: top;\n",
       "    }\n",
       "\n",
       "    .dataframe thead th {\n",
       "        text-align: right;\n",
       "    }\n",
       "</style>\n",
       "<table border=\"1\" class=\"dataframe\">\n",
       "  <thead>\n",
       "    <tr style=\"text-align: right;\">\n",
       "      <th></th>\n",
       "      <th>CABLE TV_diff</th>\n",
       "      <th>CABLE TV_diff_lags1</th>\n",
       "      <th>CABLE TV_diff_lags2</th>\n",
       "      <th>MAGAZINES_diff</th>\n",
       "      <th>MAGAZINES_diff_lags1</th>\n",
       "      <th>MAGAZINES_diff_lags2</th>\n",
       "      <th>NAT SPOT RADIO_diff</th>\n",
       "      <th>NAT SPOT RADIO_diff_lags1</th>\n",
       "      <th>NAT SPOT RADIO_diff_lags2</th>\n",
       "      <th>NATL NEWSP_diff</th>\n",
       "      <th>...</th>\n",
       "      <th>SUNDAY MAGS_diff</th>\n",
       "      <th>SUNDAY MAGS_diff_lags1</th>\n",
       "      <th>SUNDAY MAGS_diff_lags2</th>\n",
       "      <th>SYNDICATION_diff</th>\n",
       "      <th>SYNDICATION_diff_lags1</th>\n",
       "      <th>SYNDICATION_diff_lags2</th>\n",
       "      <th>TOTAL_diff</th>\n",
       "      <th>TOTAL_diff_lags1</th>\n",
       "      <th>TOTAL_diff_lags2</th>\n",
       "      <th>value_diff</th>\n",
       "    </tr>\n",
       "    <tr>\n",
       "      <th>FIXED TIME</th>\n",
       "      <th></th>\n",
       "      <th></th>\n",
       "      <th></th>\n",
       "      <th></th>\n",
       "      <th></th>\n",
       "      <th></th>\n",
       "      <th></th>\n",
       "      <th></th>\n",
       "      <th></th>\n",
       "      <th></th>\n",
       "      <th></th>\n",
       "      <th></th>\n",
       "      <th></th>\n",
       "      <th></th>\n",
       "      <th></th>\n",
       "      <th></th>\n",
       "      <th></th>\n",
       "      <th></th>\n",
       "      <th></th>\n",
       "      <th></th>\n",
       "      <th></th>\n",
       "    </tr>\n",
       "  </thead>\n",
       "  <tbody>\n",
       "    <tr>\n",
       "      <th>2018-08-20</th>\n",
       "      <td>-49.2</td>\n",
       "      <td>101.4</td>\n",
       "      <td>166.2</td>\n",
       "      <td>260.7</td>\n",
       "      <td>261.0</td>\n",
       "      <td>-839.5</td>\n",
       "      <td>0.0</td>\n",
       "      <td>0.0</td>\n",
       "      <td>-26.5</td>\n",
       "      <td>0.0</td>\n",
       "      <td>...</td>\n",
       "      <td>0.0</td>\n",
       "      <td>0.0</td>\n",
       "      <td>0.0</td>\n",
       "      <td>0.0</td>\n",
       "      <td>0.0</td>\n",
       "      <td>0.0</td>\n",
       "      <td>44.5</td>\n",
       "      <td>-52.6</td>\n",
       "      <td>-1926.4</td>\n",
       "      <td>-195.856627</td>\n",
       "    </tr>\n",
       "    <tr>\n",
       "      <th>2018-08-27</th>\n",
       "      <td>-15.8</td>\n",
       "      <td>-49.2</td>\n",
       "      <td>101.4</td>\n",
       "      <td>123.8</td>\n",
       "      <td>260.7</td>\n",
       "      <td>261.0</td>\n",
       "      <td>19.6</td>\n",
       "      <td>0.0</td>\n",
       "      <td>0.0</td>\n",
       "      <td>-868.6</td>\n",
       "      <td>...</td>\n",
       "      <td>0.0</td>\n",
       "      <td>0.0</td>\n",
       "      <td>0.0</td>\n",
       "      <td>0.0</td>\n",
       "      <td>0.0</td>\n",
       "      <td>0.0</td>\n",
       "      <td>2076.1</td>\n",
       "      <td>44.5</td>\n",
       "      <td>-52.6</td>\n",
       "      <td>-638.279586</td>\n",
       "    </tr>\n",
       "    <tr>\n",
       "      <th>2018-09-03</th>\n",
       "      <td>-220.6</td>\n",
       "      <td>-15.8</td>\n",
       "      <td>-49.2</td>\n",
       "      <td>-645.5</td>\n",
       "      <td>123.8</td>\n",
       "      <td>260.7</td>\n",
       "      <td>49.3</td>\n",
       "      <td>19.6</td>\n",
       "      <td>0.0</td>\n",
       "      <td>0.0</td>\n",
       "      <td>...</td>\n",
       "      <td>0.0</td>\n",
       "      <td>0.0</td>\n",
       "      <td>0.0</td>\n",
       "      <td>0.0</td>\n",
       "      <td>0.0</td>\n",
       "      <td>0.0</td>\n",
       "      <td>-2212.0</td>\n",
       "      <td>2076.1</td>\n",
       "      <td>44.5</td>\n",
       "      <td>816.729703</td>\n",
       "    </tr>\n",
       "    <tr>\n",
       "      <th>2018-09-10</th>\n",
       "      <td>-18.3</td>\n",
       "      <td>-220.6</td>\n",
       "      <td>-15.8</td>\n",
       "      <td>782.7</td>\n",
       "      <td>-645.5</td>\n",
       "      <td>123.8</td>\n",
       "      <td>0.0</td>\n",
       "      <td>49.3</td>\n",
       "      <td>19.6</td>\n",
       "      <td>727.9</td>\n",
       "      <td>...</td>\n",
       "      <td>0.0</td>\n",
       "      <td>0.0</td>\n",
       "      <td>0.0</td>\n",
       "      <td>0.0</td>\n",
       "      <td>0.0</td>\n",
       "      <td>0.0</td>\n",
       "      <td>1383.7</td>\n",
       "      <td>-2212.0</td>\n",
       "      <td>2076.1</td>\n",
       "      <td>-2027.785341</td>\n",
       "    </tr>\n",
       "    <tr>\n",
       "      <th>2018-09-17</th>\n",
       "      <td>187.1</td>\n",
       "      <td>-18.3</td>\n",
       "      <td>-220.6</td>\n",
       "      <td>-259.4</td>\n",
       "      <td>782.7</td>\n",
       "      <td>-645.5</td>\n",
       "      <td>0.0</td>\n",
       "      <td>0.0</td>\n",
       "      <td>49.3</td>\n",
       "      <td>-94.7</td>\n",
       "      <td>...</td>\n",
       "      <td>0.0</td>\n",
       "      <td>0.0</td>\n",
       "      <td>0.0</td>\n",
       "      <td>7.3</td>\n",
       "      <td>0.0</td>\n",
       "      <td>0.0</td>\n",
       "      <td>-1205.2</td>\n",
       "      <td>1383.7</td>\n",
       "      <td>-2212.0</td>\n",
       "      <td>1185.480262</td>\n",
       "    </tr>\n",
       "  </tbody>\n",
       "</table>\n",
       "<p>5 rows × 37 columns</p>\n",
       "</div>"
      ],
      "text/plain": [
       "            CABLE TV_diff  CABLE TV_diff_lags1  CABLE TV_diff_lags2  \\\n",
       "FIXED TIME                                                            \n",
       "2018-08-20          -49.2                101.4                166.2   \n",
       "2018-08-27          -15.8                -49.2                101.4   \n",
       "2018-09-03         -220.6                -15.8                -49.2   \n",
       "2018-09-10          -18.3               -220.6                -15.8   \n",
       "2018-09-17          187.1                -18.3               -220.6   \n",
       "\n",
       "            MAGAZINES_diff  MAGAZINES_diff_lags1  MAGAZINES_diff_lags2  \\\n",
       "FIXED TIME                                                               \n",
       "2018-08-20           260.7                 261.0                -839.5   \n",
       "2018-08-27           123.8                 260.7                 261.0   \n",
       "2018-09-03          -645.5                 123.8                 260.7   \n",
       "2018-09-10           782.7                -645.5                 123.8   \n",
       "2018-09-17          -259.4                 782.7                -645.5   \n",
       "\n",
       "            NAT SPOT RADIO_diff  NAT SPOT RADIO_diff_lags1  \\\n",
       "FIXED TIME                                                   \n",
       "2018-08-20                  0.0                        0.0   \n",
       "2018-08-27                 19.6                        0.0   \n",
       "2018-09-03                 49.3                       19.6   \n",
       "2018-09-10                  0.0                       49.3   \n",
       "2018-09-17                  0.0                        0.0   \n",
       "\n",
       "            NAT SPOT RADIO_diff_lags2  NATL NEWSP_diff  ...  SUNDAY MAGS_diff  \\\n",
       "FIXED TIME                                              ...                     \n",
       "2018-08-20                      -26.5              0.0  ...               0.0   \n",
       "2018-08-27                        0.0           -868.6  ...               0.0   \n",
       "2018-09-03                        0.0              0.0  ...               0.0   \n",
       "2018-09-10                       19.6            727.9  ...               0.0   \n",
       "2018-09-17                       49.3            -94.7  ...               0.0   \n",
       "\n",
       "            SUNDAY MAGS_diff_lags1  SUNDAY MAGS_diff_lags2  SYNDICATION_diff  \\\n",
       "FIXED TIME                                                                     \n",
       "2018-08-20                     0.0                     0.0               0.0   \n",
       "2018-08-27                     0.0                     0.0               0.0   \n",
       "2018-09-03                     0.0                     0.0               0.0   \n",
       "2018-09-10                     0.0                     0.0               0.0   \n",
       "2018-09-17                     0.0                     0.0               7.3   \n",
       "\n",
       "            SYNDICATION_diff_lags1  SYNDICATION_diff_lags2  TOTAL_diff  \\\n",
       "FIXED TIME                                                               \n",
       "2018-08-20                     0.0                     0.0        44.5   \n",
       "2018-08-27                     0.0                     0.0      2076.1   \n",
       "2018-09-03                     0.0                     0.0     -2212.0   \n",
       "2018-09-10                     0.0                     0.0      1383.7   \n",
       "2018-09-17                     0.0                     0.0     -1205.2   \n",
       "\n",
       "            TOTAL_diff_lags1  TOTAL_diff_lags2   value_diff  \n",
       "FIXED TIME                                                   \n",
       "2018-08-20             -52.6           -1926.4  -195.856627  \n",
       "2018-08-27              44.5             -52.6  -638.279586  \n",
       "2018-09-03            2076.1              44.5   816.729703  \n",
       "2018-09-10           -2212.0            2076.1 -2027.785341  \n",
       "2018-09-17            1383.7           -2212.0  1185.480262  \n",
       "\n",
       "[5 rows x 37 columns]"
      ]
     },
     "execution_count": 42,
     "metadata": {},
     "output_type": "execute_result"
    }
   ],
   "source": [
    "alldata.tail()"
   ]
  },
  {
   "cell_type": "code",
   "execution_count": 43,
   "metadata": {},
   "outputs": [],
   "source": [
    "listofallpredictors = []\n",
    "for avar in list(alldata): \n",
    "    if 'value' not in avar: \n",
    "        listofallpredictors.append(avar)"
   ]
  },
  {
   "cell_type": "code",
   "execution_count": 44,
   "metadata": {},
   "outputs": [
    {
     "name": "stdout",
     "output_type": "stream",
     "text": [
      "['CABLE TV_diff', 'CABLE TV_diff_lags1', 'CABLE TV_diff_lags2', 'MAGAZINES_diff', 'MAGAZINES_diff_lags1', 'MAGAZINES_diff_lags2', 'NAT SPOT RADIO_diff', 'NAT SPOT RADIO_diff_lags1', 'NAT SPOT RADIO_diff_lags2', 'NATL NEWSP_diff', 'NATL NEWSP_diff_lags1', 'NATL NEWSP_diff_lags2', 'NETWORK RADIO_diff', 'NETWORK RADIO_diff_lags1', 'NETWORK RADIO_diff_lags2', 'NETWORK TV_diff', 'NETWORK TV_diff_lags1', 'NETWORK TV_diff_lags2', 'NEWSPAPER_diff', 'NEWSPAPER_diff_lags1', 'NEWSPAPER_diff_lags2', 'OUTDOOR_diff', 'OUTDOOR_diff_lags1', 'OUTDOOR_diff_lags2', 'SPOT TV_diff', 'SPOT TV_diff_lags1', 'SPOT TV_diff_lags2', 'SUNDAY MAGS_diff', 'SUNDAY MAGS_diff_lags1', 'SUNDAY MAGS_diff_lags2', 'SYNDICATION_diff', 'SYNDICATION_diff_lags1', 'SYNDICATION_diff_lags2', 'TOTAL_diff', 'TOTAL_diff_lags1', 'TOTAL_diff_lags2']\n"
     ]
    }
   ],
   "source": [
    "print(listofallpredictors)"
   ]
  },
  {
   "cell_type": "code",
   "execution_count": 45,
   "metadata": {},
   "outputs": [],
   "source": [
    "predictors = alldata[listofallpredictors]"
   ]
  },
  {
   "cell_type": "code",
   "execution_count": 46,
   "metadata": {},
   "outputs": [],
   "source": [
    "target = alldata['value_diff']"
   ]
  },
  {
   "cell_type": "code",
   "execution_count": 47,
   "metadata": {},
   "outputs": [],
   "source": [
    "pred_train, pred_test, tar_train, tar_test = train_test_split(predictors, target, test_size = .3, random_state= 123)"
   ]
  },
  {
   "cell_type": "code",
   "execution_count": 48,
   "metadata": {},
   "outputs": [],
   "source": [
    "#fit that lasso model\n",
    "model= LassoLarsCV(cv = 10, precompute = False)\n"
   ]
  },
  {
   "cell_type": "code",
   "execution_count": 49,
   "metadata": {},
   "outputs": [],
   "source": [
    "model = model.fit(pred_train.values, tar_train.values)"
   ]
  },
  {
   "cell_type": "code",
   "execution_count": 51,
   "metadata": {},
   "outputs": [],
   "source": [
    "predictors_model = pd.DataFrame(listofallpredictors)\n",
    "predictors_model.columns = ['label']\n",
    "predictors_model['coeff'] = model.coef_"
   ]
  },
  {
   "cell_type": "code",
   "execution_count": 52,
   "metadata": {},
   "outputs": [
    {
     "name": "stdout",
     "output_type": "stream",
     "text": [
      "['CABLE TV_diff' 1.2799155607840862]\n",
      "['CABLE TV_diff_lags1' 0.8753845756632596]\n",
      "['CABLE TV_diff_lags2' 0.38844126951728447]\n",
      "['NAT SPOT RADIO_diff' 4.12171807670968]\n",
      "['NATL NEWSP_diff_lags2' 0.46410359983077354]\n",
      "['NETWORK TV_diff_lags1' 0.08782455253252994]\n",
      "['OUTDOOR_diff' 0.005837152654274449]\n",
      "['SYNDICATION_diff' 0.3214591478545559]\n",
      "['TOTAL_diff' 0.04701586260721388]\n"
     ]
    }
   ],
   "source": [
    "for index, row in predictors_model.iterrows():\n",
    "    if row['coeff']> 0:\n",
    "        print(row.values)"
   ]
  },
  {
   "cell_type": "code",
   "execution_count": 54,
   "metadata": {},
   "outputs": [
    {
     "name": "stdout",
     "output_type": "stream",
     "text": [
      "training data MSE\n",
      "1692836.3321686697\n"
     ]
    }
   ],
   "source": [
    "training_error = mean_squared_error(tar_train, model.predict(pred_train))\n",
    "print('training data MSE')\n",
    "print(training_error)"
   ]
  },
  {
   "cell_type": "code",
   "execution_count": 55,
   "metadata": {},
   "outputs": [
    {
     "name": "stdout",
     "output_type": "stream",
     "text": [
      "test data MSE\n",
      "3815809.813261197\n"
     ]
    }
   ],
   "source": [
    "test_error = mean_squared_error(tar_test, model.predict(pred_test))\n",
    "print('test data MSE')\n",
    "print(test_error)"
   ]
  },
  {
   "cell_type": "code",
   "execution_count": 57,
   "metadata": {},
   "outputs": [
    {
     "name": "stdout",
     "output_type": "stream",
     "text": [
      "train_rquared \n",
      "0.22965893856446795\n"
     ]
    }
   ],
   "source": [
    "train_rquared = model.score(pred_train, tar_train)\n",
    "print('train_rquared ')\n",
    "print(train_rquared)"
   ]
  },
  {
   "cell_type": "code",
   "execution_count": 58,
   "metadata": {},
   "outputs": [
    {
     "name": "stdout",
     "output_type": "stream",
     "text": [
      "test_rquared \n",
      "-0.10144184438963011\n"
     ]
    }
   ],
   "source": [
    "test_rquared = model.score(pred_test, tar_test)\n",
    "print('test_rquared ')\n",
    "print(test_rquared)"
   ]
  },
  {
   "cell_type": "code",
   "execution_count": null,
   "metadata": {},
   "outputs": [],
   "source": []
  }
 ],
 "metadata": {
  "kernelspec": {
   "display_name": "Python 3",
   "language": "python",
   "name": "python3"
  },
  "language_info": {
   "codemirror_mode": {
    "name": "ipython",
    "version": 3
   },
   "file_extension": ".py",
   "mimetype": "text/x-python",
   "name": "python",
   "nbconvert_exporter": "python",
   "pygments_lexer": "ipython3",
   "version": "3.6.7"
  }
 },
 "nbformat": 4,
 "nbformat_minor": 2
}
