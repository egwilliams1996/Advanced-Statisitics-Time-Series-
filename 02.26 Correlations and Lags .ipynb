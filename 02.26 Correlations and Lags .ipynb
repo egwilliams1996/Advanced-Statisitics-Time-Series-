{
 "cells": [
  {
   "cell_type": "code",
   "execution_count": 1,
   "metadata": {},
   "outputs": [],
   "source": [
    "import pandas as pd\n",
    "import numpy as np\n",
    "from statsmodels.tsa import stattools \n",
    "import seaborn as sns \n",
    "import matplotlib.pyplot as pyplot \n",
    "from statistics import mode "
   ]
  },
  {
   "cell_type": "code",
   "execution_count": 11,
   "metadata": {},
   "outputs": [],
   "source": [
    "adspend_trends = pd.read_csv('adspend.googletrends.weekly.csv', parse_dates = ['FIXED TIME'])"
   ]
  },
  {
   "cell_type": "code",
   "execution_count": 12,
   "metadata": {},
   "outputs": [],
   "source": [
    "adspend_trends.set_index('FIXED TIME', inplace = True)"
   ]
  },
  {
   "cell_type": "code",
   "execution_count": 13,
   "metadata": {},
   "outputs": [
    {
     "data": {
      "text/plain": [
       "['CABLE TV',\n",
       " 'MAGAZINES',\n",
       " 'NAT SPOT RADIO',\n",
       " 'NATL NEWSP',\n",
       " 'NETWORK RADIO',\n",
       " 'NETWORK TV',\n",
       " 'NEWSPAPER',\n",
       " 'OUTDOOR',\n",
       " 'SPOT TV',\n",
       " 'SUNDAY MAGS',\n",
       " 'SYNDICATION',\n",
       " 'TOTAL',\n",
       " 'Unnamed: 0',\n",
       " 'value',\n",
       " 'onediffvalue',\n",
       " 'TOTALdiff',\n",
       " 'valuediff']"
      ]
     },
     "execution_count": 13,
     "metadata": {},
     "output_type": "execute_result"
    }
   ],
   "source": [
    "list(adspend_trends)"
   ]
  },
  {
   "cell_type": "code",
   "execution_count": 14,
   "metadata": {},
   "outputs": [],
   "source": [
    "adspend_trends = adspend_trends.drop(columns = ['onediffvalue', 'Unnamed: 0', 'TOTALdiff', 'valuediff'])"
   ]
  },
  {
   "cell_type": "code",
   "execution_count": 15,
   "metadata": {},
   "outputs": [
    {
     "data": {
      "text/plain": [
       "['CABLE TV',\n",
       " 'MAGAZINES',\n",
       " 'NAT SPOT RADIO',\n",
       " 'NATL NEWSP',\n",
       " 'NETWORK RADIO',\n",
       " 'NETWORK TV',\n",
       " 'NEWSPAPER',\n",
       " 'OUTDOOR',\n",
       " 'SPOT TV',\n",
       " 'SUNDAY MAGS',\n",
       " 'SYNDICATION',\n",
       " 'TOTAL',\n",
       " 'value']"
      ]
     },
     "execution_count": 15,
     "metadata": {},
     "output_type": "execute_result"
    }
   ],
   "source": [
    "list(adspend_trends)"
   ]
  },
  {
   "cell_type": "code",
   "execution_count": 16,
   "metadata": {},
   "outputs": [
    {
     "name": "stdout",
     "output_type": "stream",
     "text": [
      "4.944569609526588e-09\n",
      "0.06237188986361679\n",
      "0.6888967165130822\n",
      "0.5507690801310768\n",
      "0.9967319472189904\n",
      "5.200387873510148e-06\n",
      "0.09667874305370416\n",
      "0.7976617760666814\n",
      "0.34853519025821755\n",
      "4.858038849581863e-29\n",
      "0.2744078405823607\n",
      "0.24171083022075313\n",
      "0.054267554962993916\n"
     ]
    }
   ],
   "source": [
    "for acolumn in list(adspend_trends):\n",
    "    adf_result = stattools.adfuller(adspend_trends[acolumn])\n",
    "    print(adf_result[1])\n",
    "#numbers less than 0.05 or 0.02 are stationary "
   ]
  },
  {
   "cell_type": "code",
   "execution_count": 17,
   "metadata": {},
   "outputs": [],
   "source": [
    "#because some are not stationary, I will apply differencing to all variable \n",
    "adspend_trends_diff = pd.DataFrame()"
   ]
  },
  {
   "cell_type": "code",
   "execution_count": 18,
   "metadata": {},
   "outputs": [
    {
     "ename": "SyntaxError",
     "evalue": "can't assign to function call (<ipython-input-18-575cc1dfe56b>, line 3)",
     "output_type": "error",
     "traceback": [
      "\u001b[0;36m  File \u001b[0;32m\"<ipython-input-18-575cc1dfe56b>\"\u001b[0;36m, line \u001b[0;32m3\u001b[0m\n\u001b[0;31m    adspend_trends_diff(columnname) = adspend_trends[acolumn].diff(1)\u001b[0m\n\u001b[0m    ^\u001b[0m\n\u001b[0;31mSyntaxError\u001b[0m\u001b[0;31m:\u001b[0m can't assign to function call\n"
     ]
    }
   ],
   "source": [
    "#for acolumn in list(adspend_trends):\n",
    " #   columnname = 'is_diff' % (acolumn)\n",
    "  #  adspend_trends_diff(columnname) = adspend_trends[acolumn].diff(1)"
   ]
  },
  {
   "cell_type": "code",
   "execution_count": 19,
   "metadata": {},
   "outputs": [],
   "source": [
    "for acolumn in list(adspend_trends): \n",
    "    columnname = \"%s_diff\" % (acolumn) \n",
    "    adspend_trends_diff[columnname] = adspend_trends[acolumn].diff(1)"
   ]
  },
  {
   "cell_type": "code",
   "execution_count": 20,
   "metadata": {},
   "outputs": [
    {
     "data": {
      "text/html": [
       "<div>\n",
       "<style scoped>\n",
       "    .dataframe tbody tr th:only-of-type {\n",
       "        vertical-align: middle;\n",
       "    }\n",
       "\n",
       "    .dataframe tbody tr th {\n",
       "        vertical-align: top;\n",
       "    }\n",
       "\n",
       "    .dataframe thead th {\n",
       "        text-align: right;\n",
       "    }\n",
       "</style>\n",
       "<table border=\"1\" class=\"dataframe\">\n",
       "  <thead>\n",
       "    <tr style=\"text-align: right;\">\n",
       "      <th></th>\n",
       "      <th>CABLE TV_diff</th>\n",
       "      <th>MAGAZINES_diff</th>\n",
       "      <th>NAT SPOT RADIO_diff</th>\n",
       "      <th>NATL NEWSP_diff</th>\n",
       "      <th>NETWORK RADIO_diff</th>\n",
       "      <th>NETWORK TV_diff</th>\n",
       "      <th>NEWSPAPER_diff</th>\n",
       "      <th>OUTDOOR_diff</th>\n",
       "      <th>SPOT TV_diff</th>\n",
       "      <th>SUNDAY MAGS_diff</th>\n",
       "      <th>SYNDICATION_diff</th>\n",
       "      <th>TOTAL_diff</th>\n",
       "      <th>value_diff</th>\n",
       "    </tr>\n",
       "    <tr>\n",
       "      <th>FIXED TIME</th>\n",
       "      <th></th>\n",
       "      <th></th>\n",
       "      <th></th>\n",
       "      <th></th>\n",
       "      <th></th>\n",
       "      <th></th>\n",
       "      <th></th>\n",
       "      <th></th>\n",
       "      <th></th>\n",
       "      <th></th>\n",
       "      <th></th>\n",
       "      <th></th>\n",
       "      <th></th>\n",
       "    </tr>\n",
       "  </thead>\n",
       "  <tbody>\n",
       "    <tr>\n",
       "      <th>2013-10-07</th>\n",
       "      <td>NaN</td>\n",
       "      <td>NaN</td>\n",
       "      <td>NaN</td>\n",
       "      <td>NaN</td>\n",
       "      <td>NaN</td>\n",
       "      <td>NaN</td>\n",
       "      <td>NaN</td>\n",
       "      <td>NaN</td>\n",
       "      <td>NaN</td>\n",
       "      <td>NaN</td>\n",
       "      <td>NaN</td>\n",
       "      <td>NaN</td>\n",
       "      <td>NaN</td>\n",
       "    </tr>\n",
       "    <tr>\n",
       "      <th>2013-10-14</th>\n",
       "      <td>-33.3</td>\n",
       "      <td>0.0</td>\n",
       "      <td>0.0</td>\n",
       "      <td>0.0</td>\n",
       "      <td>0.0</td>\n",
       "      <td>-105.7</td>\n",
       "      <td>0.0</td>\n",
       "      <td>0.0</td>\n",
       "      <td>-10.1</td>\n",
       "      <td>0.0</td>\n",
       "      <td>150.3</td>\n",
       "      <td>1.2</td>\n",
       "      <td>-300.817882</td>\n",
       "    </tr>\n",
       "    <tr>\n",
       "      <th>2013-10-21</th>\n",
       "      <td>-7.2</td>\n",
       "      <td>0.0</td>\n",
       "      <td>0.0</td>\n",
       "      <td>0.0</td>\n",
       "      <td>0.0</td>\n",
       "      <td>28.6</td>\n",
       "      <td>0.0</td>\n",
       "      <td>0.0</td>\n",
       "      <td>0.6</td>\n",
       "      <td>0.0</td>\n",
       "      <td>-134.4</td>\n",
       "      <td>-112.4</td>\n",
       "      <td>-541.177294</td>\n",
       "    </tr>\n",
       "    <tr>\n",
       "      <th>2013-10-28</th>\n",
       "      <td>-10.4</td>\n",
       "      <td>0.0</td>\n",
       "      <td>0.0</td>\n",
       "      <td>0.0</td>\n",
       "      <td>0.0</td>\n",
       "      <td>-101.1</td>\n",
       "      <td>0.0</td>\n",
       "      <td>233.0</td>\n",
       "      <td>11.2</td>\n",
       "      <td>0.0</td>\n",
       "      <td>47.0</td>\n",
       "      <td>179.8</td>\n",
       "      <td>-968.463065</td>\n",
       "    </tr>\n",
       "    <tr>\n",
       "      <th>2013-11-04</th>\n",
       "      <td>9.3</td>\n",
       "      <td>0.0</td>\n",
       "      <td>0.0</td>\n",
       "      <td>0.0</td>\n",
       "      <td>0.0</td>\n",
       "      <td>131.2</td>\n",
       "      <td>0.0</td>\n",
       "      <td>-233.0</td>\n",
       "      <td>-6.4</td>\n",
       "      <td>0.0</td>\n",
       "      <td>-110.8</td>\n",
       "      <td>-209.8</td>\n",
       "      <td>459.623576</td>\n",
       "    </tr>\n",
       "  </tbody>\n",
       "</table>\n",
       "</div>"
      ],
      "text/plain": [
       "            CABLE TV_diff  MAGAZINES_diff  NAT SPOT RADIO_diff  \\\n",
       "FIXED TIME                                                       \n",
       "2013-10-07            NaN             NaN                  NaN   \n",
       "2013-10-14          -33.3             0.0                  0.0   \n",
       "2013-10-21           -7.2             0.0                  0.0   \n",
       "2013-10-28          -10.4             0.0                  0.0   \n",
       "2013-11-04            9.3             0.0                  0.0   \n",
       "\n",
       "            NATL NEWSP_diff  NETWORK RADIO_diff  NETWORK TV_diff  \\\n",
       "FIXED TIME                                                         \n",
       "2013-10-07              NaN                 NaN              NaN   \n",
       "2013-10-14              0.0                 0.0           -105.7   \n",
       "2013-10-21              0.0                 0.0             28.6   \n",
       "2013-10-28              0.0                 0.0           -101.1   \n",
       "2013-11-04              0.0                 0.0            131.2   \n",
       "\n",
       "            NEWSPAPER_diff  OUTDOOR_diff  SPOT TV_diff  SUNDAY MAGS_diff  \\\n",
       "FIXED TIME                                                                 \n",
       "2013-10-07             NaN           NaN           NaN               NaN   \n",
       "2013-10-14             0.0           0.0         -10.1               0.0   \n",
       "2013-10-21             0.0           0.0           0.6               0.0   \n",
       "2013-10-28             0.0         233.0          11.2               0.0   \n",
       "2013-11-04             0.0        -233.0          -6.4               0.0   \n",
       "\n",
       "            SYNDICATION_diff  TOTAL_diff  value_diff  \n",
       "FIXED TIME                                            \n",
       "2013-10-07               NaN         NaN         NaN  \n",
       "2013-10-14             150.3         1.2 -300.817882  \n",
       "2013-10-21            -134.4      -112.4 -541.177294  \n",
       "2013-10-28              47.0       179.8 -968.463065  \n",
       "2013-11-04            -110.8      -209.8  459.623576  "
      ]
     },
     "execution_count": 20,
     "metadata": {},
     "output_type": "execute_result"
    }
   ],
   "source": [
    "adspend_trends_diff.head()"
   ]
  },
  {
   "cell_type": "code",
   "execution_count": 22,
   "metadata": {},
   "outputs": [
    {
     "name": "stdout",
     "output_type": "stream",
     "text": [
      "2.737565394693417e-16\n",
      "2.834615515519561e-14\n",
      "8.44449296505387e-15\n",
      "5.2624941219073705e-12\n",
      "6.799586104486564e-06\n",
      "4.097629531847151e-13\n",
      "2.9107116033648535e-12\n",
      "1.3630246836291944e-15\n",
      "3.5528864600703405e-20\n",
      "1.507821040229618e-13\n",
      "1.8385816673648825e-17\n",
      "7.158438380058312e-05\n",
      "5.234505615611961e-10\n"
     ]
    }
   ],
   "source": [
    "for acolumn in list(adspend_trends_diff):\n",
    "    adf_result = stattools.adfuller(adspend_trends_diff[acolumn].iloc[1:])\n",
    "    print(adf_result[1])"
   ]
  },
  {
   "cell_type": "code",
   "execution_count": 24,
   "metadata": {},
   "outputs": [
    {
     "name": "stdout",
     "output_type": "stream",
     "text": [
      "CABLE TV_diff 0.22037153406889598\n",
      "MAGAZINES_diff 0.05744505450045889\n",
      "NAT SPOT RADIO_diff 0.016997649461892226\n",
      "NATL NEWSP_diff 0.0031087842156899328\n",
      "NETWORK RADIO_diff -0.011493852056803793\n",
      "NETWORK TV_diff 0.0977805374960994\n",
      "NEWSPAPER_diff 0.14996532007884594\n",
      "OUTDOOR_diff 0.08811169210020817\n",
      "SPOT TV_diff 0.003394777712884136\n",
      "SUNDAY MAGS_diff 0.03898436962954251\n",
      "SYNDICATION_diff 0.1305366708532623\n",
      "TOTAL_diff 0.17996636383056985\n"
     ]
    }
   ],
   "source": [
    "correlationlist = []\n",
    "for acolumn in list(adspend_trends_diff): \n",
    "    if 'value'not in acolumn: \n",
    "        corr = adspend_trends_diff[acolumn].corr(adspend_trends_diff['value_diff'])\n",
    "        print(acolumn, corr)\n",
    "        correlationlist.append(corr)"
   ]
  },
  {
   "cell_type": "code",
   "execution_count": 25,
   "metadata": {},
   "outputs": [
    {
     "data": {
      "text/plain": [
       "0.08126407515762879"
      ]
     },
     "execution_count": 25,
     "metadata": {},
     "output_type": "execute_result"
    }
   ],
   "source": [
    "np.mean(correlationlist)"
   ]
  },
  {
   "cell_type": "code",
   "execution_count": 28,
   "metadata": {},
   "outputs": [
    {
     "name": "stdout",
     "output_type": "stream",
     "text": [
      "CABLE TV 0.21745737491816322\n",
      "MAGAZINES 0.04487501228309064\n",
      "NAT SPOT RADIO 0.0014309893233000162\n",
      "NATL NEWSP -0.07612919690205967\n",
      "NETWORK RADIO -0.03522310284411466\n",
      "NETWORK TV 0.04013733492572933\n",
      "NEWSPAPER 0.03754205192900637\n",
      "OUTDOOR -0.09027713682412346\n",
      "SPOT TV -0.12400652923541038\n",
      "SUNDAY MAGS -0.019046458416145107\n",
      "SYNDICATION 0.4956966482683107\n",
      "TOTAL 0.07869191731914103\n"
     ]
    }
   ],
   "source": [
    "correlationlist = []\n",
    "for acolumn in list(adspend_trends): \n",
    "    if 'value'not in acolumn: \n",
    "        corr = adspend_trends[acolumn].corr(adspend_trends['value'])\n",
    "        print(acolumn, corr)\n",
    "        correlationlist.append(corr)"
   ]
  },
  {
   "cell_type": "code",
   "execution_count": 29,
   "metadata": {},
   "outputs": [
    {
     "data": {
      "text/plain": [
       "0.047595742062074"
      ]
     },
     "execution_count": 29,
     "metadata": {},
     "output_type": "execute_result"
    }
   ],
   "source": [
    "np.mean(correlationlist)"
   ]
  },
  {
   "cell_type": "code",
   "execution_count": 35,
   "metadata": {},
   "outputs": [
    {
     "data": {
      "text/plain": [
       "<matplotlib.axes._subplots.AxesSubplot at 0x7f7da4f2f6a0>"
      ]
     },
     "execution_count": 35,
     "metadata": {},
     "output_type": "execute_result"
    },
    {
     "data": {
      "image/png": "[encoded data removed]",
      "text/plain": [
       "<Figure size 720x576 with 2 Axes>"
      ]
     },
     "metadata": {
      "needs_background": "light"
     },
     "output_type": "display_data"
    }
   ],
   "source": [
    "f, ax = pyplot.subplots(figsize=(10,8))\n",
    "corr = adspend_trends_diff.corr()\n",
    "sns.heatmap(corr, mask=np.zeros_like(corr, dtype=np.bool), cmap=sns.diverging_palette(220, 10, as_cmap=True),\n",
    "            square=True, ax=ax)\n",
    "\n",
    "\n"
   ]
  },
  {
   "cell_type": "code",
   "execution_count": 41,
   "metadata": {},
   "outputs": [
    {
     "name": "stdout",
     "output_type": "stream",
     "text": [
      "CABLE TV_diff is significant at 1 weeks\n",
      "NAT SPOT RADIO_diff is significant at 1 weeks\n",
      "NAT SPOT RADIO_diff is significant at 3 weeks\n",
      "NAT SPOT RADIO_diff is significant at 4 weeks\n",
      "NAT SPOT RADIO_diff is significant at 5 weeks\n",
      "NAT SPOT RADIO_diff is significant at 6 weeks\n",
      "NAT SPOT RADIO_diff is significant at 7 weeks\n",
      "NAT SPOT RADIO_diff is significant at 8 weeks\n",
      "NETWORK RADIO_diff is significant at 3 weeks\n",
      "NETWORK RADIO_diff is significant at 4 weeks\n",
      "NETWORK RADIO_diff is significant at 5 weeks\n",
      "NETWORK RADIO_diff is significant at 6 weeks\n",
      "NETWORK RADIO_diff is significant at 7 weeks\n",
      "NETWORK RADIO_diff is significant at 8 weeks\n",
      "OUTDOOR_diff is significant at 2 weeks\n",
      "OUTDOOR_diff is significant at 5 weeks\n",
      "SUNDAY MAGS_diff is significant at 2 weeks\n",
      "SUNDAY MAGS_diff is significant at 3 weeks\n",
      "SUNDAY MAGS_diff is significant at 4 weeks\n",
      "SUNDAY MAGS_diff is significant at 5 weeks\n",
      "SUNDAY MAGS_diff is significant at 6 weeks\n",
      "SUNDAY MAGS_diff is significant at 7 weeks\n",
      "SUNDAY MAGS_diff is significant at 8 weeks\n",
      "SYNDICATION_diff is significant at 4 weeks\n",
      "SYNDICATION_diff is significant at 5 weeks\n",
      "TOTAL_diff is significant at 5 weeks\n",
      "TOTAL_diff is significant at 6 weeks\n"
     ]
    }
   ],
   "source": [
    "numofweeks = 8 \n",
    "significantlags = [] \n",
    "for acolumn in list(adspend_trends_diff):\n",
    "    if 'value' not in acolumn: \n",
    "        testframe = adspend_trends_diff[['value_diff', acolumn]]\n",
    "        testframe = testframe.iloc[1:] #removing first row \n",
    "        results = stattools.grangercausalitytests(testframe, numofweeks, verbose = False)\n",
    "        for week in range(1, numofweeks+1):\n",
    "            if results[week][0]['params_ftest'][1]<0.05:\n",
    "                print('%s is significant at %s weeks'%(acolumn, week))\n",
    "                significantlags.append(week)\n",
    "        "
   ]
  },
  {
   "cell_type": "code",
   "execution_count": 42,
   "metadata": {},
   "outputs": [
    {
     "data": {
      "text/plain": [
       "5"
      ]
     },
     "execution_count": 42,
     "metadata": {},
     "output_type": "execute_result"
    }
   ],
   "source": [
    "mode(significantlags)"
   ]
  },
  {
   "cell_type": "code",
   "execution_count": 43,
   "metadata": {},
   "outputs": [],
   "source": [
    "modelingdataset= adspend_trends_diff"
   ]
  },
  {
   "cell_type": "code",
   "execution_count": 44,
   "metadata": {},
   "outputs": [
    {
     "data": {
      "text/html": [
       "<div>\n",
       "<style scoped>\n",
       "    .dataframe tbody tr th:only-of-type {\n",
       "        vertical-align: middle;\n",
       "    }\n",
       "\n",
       "    .dataframe tbody tr th {\n",
       "        vertical-align: top;\n",
       "    }\n",
       "\n",
       "    .dataframe thead th {\n",
       "        text-align: right;\n",
       "    }\n",
       "</style>\n",
       "<table border=\"1\" class=\"dataframe\">\n",
       "  <thead>\n",
       "    <tr style=\"text-align: right;\">\n",
       "      <th></th>\n",
       "      <th>CABLE TV_diff</th>\n",
       "      <th>MAGAZINES_diff</th>\n",
       "      <th>NAT SPOT RADIO_diff</th>\n",
       "      <th>NATL NEWSP_diff</th>\n",
       "      <th>NETWORK RADIO_diff</th>\n",
       "      <th>NETWORK TV_diff</th>\n",
       "      <th>NEWSPAPER_diff</th>\n",
       "      <th>OUTDOOR_diff</th>\n",
       "      <th>SPOT TV_diff</th>\n",
       "      <th>SUNDAY MAGS_diff</th>\n",
       "      <th>SYNDICATION_diff</th>\n",
       "      <th>TOTAL_diff</th>\n",
       "      <th>value_diff</th>\n",
       "    </tr>\n",
       "    <tr>\n",
       "      <th>FIXED TIME</th>\n",
       "      <th></th>\n",
       "      <th></th>\n",
       "      <th></th>\n",
       "      <th></th>\n",
       "      <th></th>\n",
       "      <th></th>\n",
       "      <th></th>\n",
       "      <th></th>\n",
       "      <th></th>\n",
       "      <th></th>\n",
       "      <th></th>\n",
       "      <th></th>\n",
       "      <th></th>\n",
       "    </tr>\n",
       "  </thead>\n",
       "  <tbody>\n",
       "    <tr>\n",
       "      <th>2018-09-03</th>\n",
       "      <td>-220.6</td>\n",
       "      <td>-645.5</td>\n",
       "      <td>49.3</td>\n",
       "      <td>0.0</td>\n",
       "      <td>-71.7</td>\n",
       "      <td>1342.4</td>\n",
       "      <td>-39.3</td>\n",
       "      <td>-2511.7</td>\n",
       "      <td>-114.9</td>\n",
       "      <td>0.0</td>\n",
       "      <td>0.0</td>\n",
       "      <td>-2212.0</td>\n",
       "      <td>816.729703</td>\n",
       "    </tr>\n",
       "    <tr>\n",
       "      <th>2018-09-10</th>\n",
       "      <td>-18.3</td>\n",
       "      <td>782.7</td>\n",
       "      <td>0.0</td>\n",
       "      <td>727.9</td>\n",
       "      <td>0.0</td>\n",
       "      <td>-28.2</td>\n",
       "      <td>-28.5</td>\n",
       "      <td>0.0</td>\n",
       "      <td>-51.9</td>\n",
       "      <td>0.0</td>\n",
       "      <td>0.0</td>\n",
       "      <td>1383.7</td>\n",
       "      <td>-2027.785341</td>\n",
       "    </tr>\n",
       "    <tr>\n",
       "      <th>2018-09-17</th>\n",
       "      <td>187.1</td>\n",
       "      <td>-259.4</td>\n",
       "      <td>0.0</td>\n",
       "      <td>-94.7</td>\n",
       "      <td>0.0</td>\n",
       "      <td>-1051.6</td>\n",
       "      <td>-7.8</td>\n",
       "      <td>0.0</td>\n",
       "      <td>14.0</td>\n",
       "      <td>0.0</td>\n",
       "      <td>7.3</td>\n",
       "      <td>-1205.2</td>\n",
       "      <td>1185.480262</td>\n",
       "    </tr>\n",
       "    <tr>\n",
       "      <th>2018-09-24</th>\n",
       "      <td>-180.5</td>\n",
       "      <td>-98.6</td>\n",
       "      <td>0.0</td>\n",
       "      <td>-595.5</td>\n",
       "      <td>0.0</td>\n",
       "      <td>943.4</td>\n",
       "      <td>2.7</td>\n",
       "      <td>0.0</td>\n",
       "      <td>162.2</td>\n",
       "      <td>0.0</td>\n",
       "      <td>56.7</td>\n",
       "      <td>290.4</td>\n",
       "      <td>-1083.758549</td>\n",
       "    </tr>\n",
       "    <tr>\n",
       "      <th>2018-10-01</th>\n",
       "      <td>59.1</td>\n",
       "      <td>470.5</td>\n",
       "      <td>-50.7</td>\n",
       "      <td>416.2</td>\n",
       "      <td>0.0</td>\n",
       "      <td>-1078.4</td>\n",
       "      <td>95.6</td>\n",
       "      <td>2763.9</td>\n",
       "      <td>-11.3</td>\n",
       "      <td>0.0</td>\n",
       "      <td>-64.0</td>\n",
       "      <td>2600.7</td>\n",
       "      <td>-1026.643115</td>\n",
       "    </tr>\n",
       "  </tbody>\n",
       "</table>\n",
       "</div>"
      ],
      "text/plain": [
       "            CABLE TV_diff  MAGAZINES_diff  NAT SPOT RADIO_diff  \\\n",
       "FIXED TIME                                                       \n",
       "2018-09-03         -220.6          -645.5                 49.3   \n",
       "2018-09-10          -18.3           782.7                  0.0   \n",
       "2018-09-17          187.1          -259.4                  0.0   \n",
       "2018-09-24         -180.5           -98.6                  0.0   \n",
       "2018-10-01           59.1           470.5                -50.7   \n",
       "\n",
       "            NATL NEWSP_diff  NETWORK RADIO_diff  NETWORK TV_diff  \\\n",
       "FIXED TIME                                                         \n",
       "2018-09-03              0.0               -71.7           1342.4   \n",
       "2018-09-10            727.9                 0.0            -28.2   \n",
       "2018-09-17            -94.7                 0.0          -1051.6   \n",
       "2018-09-24           -595.5                 0.0            943.4   \n",
       "2018-10-01            416.2                 0.0          -1078.4   \n",
       "\n",
       "            NEWSPAPER_diff  OUTDOOR_diff  SPOT TV_diff  SUNDAY MAGS_diff  \\\n",
       "FIXED TIME                                                                 \n",
       "2018-09-03           -39.3       -2511.7        -114.9               0.0   \n",
       "2018-09-10           -28.5           0.0         -51.9               0.0   \n",
       "2018-09-17            -7.8           0.0          14.0               0.0   \n",
       "2018-09-24             2.7           0.0         162.2               0.0   \n",
       "2018-10-01            95.6        2763.9         -11.3               0.0   \n",
       "\n",
       "            SYNDICATION_diff  TOTAL_diff   value_diff  \n",
       "FIXED TIME                                             \n",
       "2018-09-03               0.0     -2212.0   816.729703  \n",
       "2018-09-10               0.0      1383.7 -2027.785341  \n",
       "2018-09-17               7.3     -1205.2  1185.480262  \n",
       "2018-09-24              56.7       290.4 -1083.758549  \n",
       "2018-10-01             -64.0      2600.7 -1026.643115  "
      ]
     },
     "execution_count": 44,
     "metadata": {},
     "output_type": "execute_result"
    }
   ],
   "source": [
    "modelingdataset.tail()"
   ]
  },
  {
   "cell_type": "code",
   "execution_count": 50,
   "metadata": {},
   "outputs": [],
   "source": [
    "date = pd.to_datetime('2018-10-08')\n",
    "modelingdataset.loc[date] = np.nan"
   ]
  },
  {
   "cell_type": "code",
   "execution_count": 51,
   "metadata": {},
   "outputs": [],
   "source": [
    "date = pd.to_datetime('2018-10-15')\n",
    "modelingdataset.loc[date] = np.nan"
   ]
  },
  {
   "cell_type": "code",
   "execution_count": 49,
   "metadata": {},
   "outputs": [],
   "source": [
    "for acolumn in list(modelingdataset):\n",
    "    if 'value' not in acolumn: \n",
    "        for alag in range (1,3):\n",
    "            columnname = '%s_lags%s'%(acolumn,alag)\n",
    "            modelingdataset[columnname] = modelingdataset[acolumn].shift(alag)"
   ]
  },
  {
   "cell_type": "code",
   "execution_count": 53,
   "metadata": {},
   "outputs": [
    {
     "data": {
      "text/html": [
       "<div>\n",
       "<style scoped>\n",
       "    .dataframe tbody tr th:only-of-type {\n",
       "        vertical-align: middle;\n",
       "    }\n",
       "\n",
       "    .dataframe tbody tr th {\n",
       "        vertical-align: top;\n",
       "    }\n",
       "\n",
       "    .dataframe thead th {\n",
       "        text-align: right;\n",
       "    }\n",
       "</style>\n",
       "<table border=\"1\" class=\"dataframe\">\n",
       "  <thead>\n",
       "    <tr style=\"text-align: right;\">\n",
       "      <th></th>\n",
       "      <th>CABLE TV_diff</th>\n",
       "      <th>CABLE TV_diff_lags1</th>\n",
       "      <th>CABLE TV_diff_lags2</th>\n",
       "      <th>MAGAZINES_diff</th>\n",
       "      <th>MAGAZINES_diff_lags1</th>\n",
       "      <th>MAGAZINES_diff_lags2</th>\n",
       "      <th>NAT SPOT RADIO_diff</th>\n",
       "      <th>NAT SPOT RADIO_diff_lags1</th>\n",
       "      <th>NAT SPOT RADIO_diff_lags2</th>\n",
       "      <th>NATL NEWSP_diff</th>\n",
       "      <th>...</th>\n",
       "      <th>SUNDAY MAGS_diff</th>\n",
       "      <th>SUNDAY MAGS_diff_lags1</th>\n",
       "      <th>SUNDAY MAGS_diff_lags2</th>\n",
       "      <th>SYNDICATION_diff</th>\n",
       "      <th>SYNDICATION_diff_lags1</th>\n",
       "      <th>SYNDICATION_diff_lags2</th>\n",
       "      <th>TOTAL_diff</th>\n",
       "      <th>TOTAL_diff_lags1</th>\n",
       "      <th>TOTAL_diff_lags2</th>\n",
       "      <th>value_diff</th>\n",
       "    </tr>\n",
       "    <tr>\n",
       "      <th>FIXED TIME</th>\n",
       "      <th></th>\n",
       "      <th></th>\n",
       "      <th></th>\n",
       "      <th></th>\n",
       "      <th></th>\n",
       "      <th></th>\n",
       "      <th></th>\n",
       "      <th></th>\n",
       "      <th></th>\n",
       "      <th></th>\n",
       "      <th></th>\n",
       "      <th></th>\n",
       "      <th></th>\n",
       "      <th></th>\n",
       "      <th></th>\n",
       "      <th></th>\n",
       "      <th></th>\n",
       "      <th></th>\n",
       "      <th></th>\n",
       "      <th></th>\n",
       "      <th></th>\n",
       "    </tr>\n",
       "  </thead>\n",
       "  <tbody>\n",
       "    <tr>\n",
       "      <th>2013-10-07</th>\n",
       "      <td>NaN</td>\n",
       "      <td>NaN</td>\n",
       "      <td>NaN</td>\n",
       "      <td>NaN</td>\n",
       "      <td>NaN</td>\n",
       "      <td>NaN</td>\n",
       "      <td>NaN</td>\n",
       "      <td>NaN</td>\n",
       "      <td>NaN</td>\n",
       "      <td>NaN</td>\n",
       "      <td>...</td>\n",
       "      <td>NaN</td>\n",
       "      <td>NaN</td>\n",
       "      <td>NaN</td>\n",
       "      <td>NaN</td>\n",
       "      <td>NaN</td>\n",
       "      <td>NaN</td>\n",
       "      <td>NaN</td>\n",
       "      <td>NaN</td>\n",
       "      <td>NaN</td>\n",
       "      <td>NaN</td>\n",
       "    </tr>\n",
       "    <tr>\n",
       "      <th>2013-10-14</th>\n",
       "      <td>-33.3</td>\n",
       "      <td>NaN</td>\n",
       "      <td>NaN</td>\n",
       "      <td>0.0</td>\n",
       "      <td>NaN</td>\n",
       "      <td>NaN</td>\n",
       "      <td>0.0</td>\n",
       "      <td>NaN</td>\n",
       "      <td>NaN</td>\n",
       "      <td>0.0</td>\n",
       "      <td>...</td>\n",
       "      <td>0.0</td>\n",
       "      <td>NaN</td>\n",
       "      <td>NaN</td>\n",
       "      <td>150.3</td>\n",
       "      <td>NaN</td>\n",
       "      <td>NaN</td>\n",
       "      <td>1.2</td>\n",
       "      <td>NaN</td>\n",
       "      <td>NaN</td>\n",
       "      <td>-300.817882</td>\n",
       "    </tr>\n",
       "    <tr>\n",
       "      <th>2013-10-21</th>\n",
       "      <td>-7.2</td>\n",
       "      <td>-33.3</td>\n",
       "      <td>NaN</td>\n",
       "      <td>0.0</td>\n",
       "      <td>0.0</td>\n",
       "      <td>NaN</td>\n",
       "      <td>0.0</td>\n",
       "      <td>0.0</td>\n",
       "      <td>NaN</td>\n",
       "      <td>0.0</td>\n",
       "      <td>...</td>\n",
       "      <td>0.0</td>\n",
       "      <td>0.0</td>\n",
       "      <td>NaN</td>\n",
       "      <td>-134.4</td>\n",
       "      <td>150.3</td>\n",
       "      <td>NaN</td>\n",
       "      <td>-112.4</td>\n",
       "      <td>1.2</td>\n",
       "      <td>NaN</td>\n",
       "      <td>-541.177294</td>\n",
       "    </tr>\n",
       "    <tr>\n",
       "      <th>2013-10-28</th>\n",
       "      <td>-10.4</td>\n",
       "      <td>-7.2</td>\n",
       "      <td>-33.3</td>\n",
       "      <td>0.0</td>\n",
       "      <td>0.0</td>\n",
       "      <td>0.0</td>\n",
       "      <td>0.0</td>\n",
       "      <td>0.0</td>\n",
       "      <td>0.0</td>\n",
       "      <td>0.0</td>\n",
       "      <td>...</td>\n",
       "      <td>0.0</td>\n",
       "      <td>0.0</td>\n",
       "      <td>0.0</td>\n",
       "      <td>47.0</td>\n",
       "      <td>-134.4</td>\n",
       "      <td>150.3</td>\n",
       "      <td>179.8</td>\n",
       "      <td>-112.4</td>\n",
       "      <td>1.2</td>\n",
       "      <td>-968.463065</td>\n",
       "    </tr>\n",
       "    <tr>\n",
       "      <th>2013-11-04</th>\n",
       "      <td>9.3</td>\n",
       "      <td>-10.4</td>\n",
       "      <td>-7.2</td>\n",
       "      <td>0.0</td>\n",
       "      <td>0.0</td>\n",
       "      <td>0.0</td>\n",
       "      <td>0.0</td>\n",
       "      <td>0.0</td>\n",
       "      <td>0.0</td>\n",
       "      <td>0.0</td>\n",
       "      <td>...</td>\n",
       "      <td>0.0</td>\n",
       "      <td>0.0</td>\n",
       "      <td>0.0</td>\n",
       "      <td>-110.8</td>\n",
       "      <td>47.0</td>\n",
       "      <td>-134.4</td>\n",
       "      <td>-209.8</td>\n",
       "      <td>179.8</td>\n",
       "      <td>-112.4</td>\n",
       "      <td>459.623576</td>\n",
       "    </tr>\n",
       "  </tbody>\n",
       "</table>\n",
       "<p>5 rows × 37 columns</p>\n",
       "</div>"
      ],
      "text/plain": [
       "            CABLE TV_diff  CABLE TV_diff_lags1  CABLE TV_diff_lags2  \\\n",
       "FIXED TIME                                                            \n",
       "2013-10-07            NaN                  NaN                  NaN   \n",
       "2013-10-14          -33.3                  NaN                  NaN   \n",
       "2013-10-21           -7.2                -33.3                  NaN   \n",
       "2013-10-28          -10.4                 -7.2                -33.3   \n",
       "2013-11-04            9.3                -10.4                 -7.2   \n",
       "\n",
       "            MAGAZINES_diff  MAGAZINES_diff_lags1  MAGAZINES_diff_lags2  \\\n",
       "FIXED TIME                                                               \n",
       "2013-10-07             NaN                   NaN                   NaN   \n",
       "2013-10-14             0.0                   NaN                   NaN   \n",
       "2013-10-21             0.0                   0.0                   NaN   \n",
       "2013-10-28             0.0                   0.0                   0.0   \n",
       "2013-11-04             0.0                   0.0                   0.0   \n",
       "\n",
       "            NAT SPOT RADIO_diff  NAT SPOT RADIO_diff_lags1  \\\n",
       "FIXED TIME                                                   \n",
       "2013-10-07                  NaN                        NaN   \n",
       "2013-10-14                  0.0                        NaN   \n",
       "2013-10-21                  0.0                        0.0   \n",
       "2013-10-28                  0.0                        0.0   \n",
       "2013-11-04                  0.0                        0.0   \n",
       "\n",
       "            NAT SPOT RADIO_diff_lags2  NATL NEWSP_diff  ...  SUNDAY MAGS_diff  \\\n",
       "FIXED TIME                                              ...                     \n",
       "2013-10-07                        NaN              NaN  ...               NaN   \n",
       "2013-10-14                        NaN              0.0  ...               0.0   \n",
       "2013-10-21                        NaN              0.0  ...               0.0   \n",
       "2013-10-28                        0.0              0.0  ...               0.0   \n",
       "2013-11-04                        0.0              0.0  ...               0.0   \n",
       "\n",
       "            SUNDAY MAGS_diff_lags1  SUNDAY MAGS_diff_lags2  SYNDICATION_diff  \\\n",
       "FIXED TIME                                                                     \n",
       "2013-10-07                     NaN                     NaN               NaN   \n",
       "2013-10-14                     NaN                     NaN             150.3   \n",
       "2013-10-21                     0.0                     NaN            -134.4   \n",
       "2013-10-28                     0.0                     0.0              47.0   \n",
       "2013-11-04                     0.0                     0.0            -110.8   \n",
       "\n",
       "            SYNDICATION_diff_lags1  SYNDICATION_diff_lags2  TOTAL_diff  \\\n",
       "FIXED TIME                                                               \n",
       "2013-10-07                     NaN                     NaN         NaN   \n",
       "2013-10-14                     NaN                     NaN         1.2   \n",
       "2013-10-21                   150.3                     NaN      -112.4   \n",
       "2013-10-28                  -134.4                   150.3       179.8   \n",
       "2013-11-04                    47.0                  -134.4      -209.8   \n",
       "\n",
       "            TOTAL_diff_lags1  TOTAL_diff_lags2  value_diff  \n",
       "FIXED TIME                                                  \n",
       "2013-10-07               NaN               NaN         NaN  \n",
       "2013-10-14               NaN               NaN -300.817882  \n",
       "2013-10-21               1.2               NaN -541.177294  \n",
       "2013-10-28            -112.4               1.2 -968.463065  \n",
       "2013-11-04             179.8            -112.4  459.623576  \n",
       "\n",
       "[5 rows x 37 columns]"
      ]
     },
     "execution_count": 53,
     "metadata": {},
     "output_type": "execute_result"
    }
   ],
   "source": [
    "modelingdataset.sort_index(axis =1, inplace = True)\n",
    "modelingdataset.head()"
   ]
  },
  {
   "cell_type": "code",
   "execution_count": 55,
   "metadata": {},
   "outputs": [],
   "source": [
    "modelingdataset.to_csv('google_adspend_differenced_lagged_fordatarobot.csv')"
   ]
  },
  {
   "cell_type": "code",
   "execution_count": null,
   "metadata": {},
   "outputs": [],
   "source": []
  }
 ],
 "metadata": {
  "kernelspec": {
   "display_name": "Python 3",
   "language": "python",
   "name": "python3"
  },
  "language_info": {
   "codemirror_mode": {
    "name": "ipython",
    "version": 3
   },
   "file_extension": ".py",
   "mimetype": "text/x-python",
   "name": "python",
   "nbconvert_exporter": "python",
   "pygments_lexer": "ipython3",
   "version": "3.6.7"
  }
 },
 "nbformat": 4,
 "nbformat_minor": 2
}
